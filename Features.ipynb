{
 "cells": [
  {
   "cell_type": "code",
   "execution_count": 1,
   "metadata": {
    "scrolled": true
   },
   "outputs": [
    {
     "name": "stderr",
     "output_type": "stream",
     "text": [
      "[nltk_data] Downloading package wordnet to\n",
      "[nltk_data]     C:\\Users\\Alee\\AppData\\Roaming\\nltk_data...\n",
      "[nltk_data]   Package wordnet is already up-to-date!\n"
     ]
    },
    {
     "data": {
      "text/html": [
       "<div>\n",
       "<style scoped>\n",
       "    .dataframe tbody tr th:only-of-type {\n",
       "        vertical-align: middle;\n",
       "    }\n",
       "\n",
       "    .dataframe tbody tr th {\n",
       "        vertical-align: top;\n",
       "    }\n",
       "\n",
       "    .dataframe thead th {\n",
       "        text-align: right;\n",
       "    }\n",
       "</style>\n",
       "<table border=\"1\" class=\"dataframe\">\n",
       "  <thead>\n",
       "    <tr style=\"text-align: right;\">\n",
       "      <th></th>\n",
       "      <th>Words</th>\n",
       "      <th>anger</th>\n",
       "      <th>anticipation</th>\n",
       "      <th>disgust</th>\n",
       "      <th>fear</th>\n",
       "      <th>joy</th>\n",
       "      <th>negative</th>\n",
       "      <th>positive</th>\n",
       "      <th>sadness</th>\n",
       "      <th>surprise</th>\n",
       "      <th>trust</th>\n",
       "      <th>Charged</th>\n",
       "    </tr>\n",
       "  </thead>\n",
       "  <tbody>\n",
       "    <tr>\n",
       "      <th>0</th>\n",
       "      <td>march</td>\n",
       "      <td>0</td>\n",
       "      <td>0</td>\n",
       "      <td>0</td>\n",
       "      <td>0</td>\n",
       "      <td>0</td>\n",
       "      <td>0</td>\n",
       "      <td>1</td>\n",
       "      <td>0</td>\n",
       "      <td>0</td>\n",
       "      <td>0</td>\n",
       "      <td>1</td>\n",
       "    </tr>\n",
       "    <tr>\n",
       "      <th>1</th>\n",
       "      <td>august</td>\n",
       "      <td>0</td>\n",
       "      <td>0</td>\n",
       "      <td>0</td>\n",
       "      <td>0</td>\n",
       "      <td>0</td>\n",
       "      <td>0</td>\n",
       "      <td>1</td>\n",
       "      <td>0</td>\n",
       "      <td>0</td>\n",
       "      <td>0</td>\n",
       "      <td>1</td>\n",
       "    </tr>\n",
       "    <tr>\n",
       "      <th>2</th>\n",
       "      <td>ago</td>\n",
       "      <td>0</td>\n",
       "      <td>0</td>\n",
       "      <td>0</td>\n",
       "      <td>0</td>\n",
       "      <td>0</td>\n",
       "      <td>0</td>\n",
       "      <td>0</td>\n",
       "      <td>0</td>\n",
       "      <td>0</td>\n",
       "      <td>0</td>\n",
       "      <td>0</td>\n",
       "    </tr>\n",
       "    <tr>\n",
       "      <th>3</th>\n",
       "      <td>mar</td>\n",
       "      <td>0</td>\n",
       "      <td>0</td>\n",
       "      <td>0</td>\n",
       "      <td>0</td>\n",
       "      <td>0</td>\n",
       "      <td>1</td>\n",
       "      <td>0</td>\n",
       "      <td>0</td>\n",
       "      <td>0</td>\n",
       "      <td>0</td>\n",
       "      <td>1</td>\n",
       "    </tr>\n",
       "    <tr>\n",
       "      <th>4</th>\n",
       "      <td>vie</td>\n",
       "      <td>0</td>\n",
       "      <td>0</td>\n",
       "      <td>0</td>\n",
       "      <td>0</td>\n",
       "      <td>0</td>\n",
       "      <td>0</td>\n",
       "      <td>0</td>\n",
       "      <td>0</td>\n",
       "      <td>0</td>\n",
       "      <td>0</td>\n",
       "      <td>0</td>\n",
       "    </tr>\n",
       "    <tr>\n",
       "      <th>5</th>\n",
       "      <td>sun</td>\n",
       "      <td>0</td>\n",
       "      <td>1</td>\n",
       "      <td>0</td>\n",
       "      <td>0</td>\n",
       "      <td>1</td>\n",
       "      <td>0</td>\n",
       "      <td>1</td>\n",
       "      <td>0</td>\n",
       "      <td>1</td>\n",
       "      <td>1</td>\n",
       "      <td>1</td>\n",
       "    </tr>\n",
       "    <tr>\n",
       "      <th>6</th>\n",
       "      <td>wed</td>\n",
       "      <td>0</td>\n",
       "      <td>0</td>\n",
       "      <td>0</td>\n",
       "      <td>0</td>\n",
       "      <td>0</td>\n",
       "      <td>0</td>\n",
       "      <td>0</td>\n",
       "      <td>0</td>\n",
       "      <td>0</td>\n",
       "      <td>0</td>\n",
       "      <td>0</td>\n",
       "    </tr>\n",
       "    <tr>\n",
       "      <th>7</th>\n",
       "      <td>aback</td>\n",
       "      <td>0</td>\n",
       "      <td>0</td>\n",
       "      <td>0</td>\n",
       "      <td>0</td>\n",
       "      <td>0</td>\n",
       "      <td>0</td>\n",
       "      <td>0</td>\n",
       "      <td>0</td>\n",
       "      <td>0</td>\n",
       "      <td>0</td>\n",
       "      <td>0</td>\n",
       "    </tr>\n",
       "    <tr>\n",
       "      <th>8</th>\n",
       "      <td>abacus</td>\n",
       "      <td>0</td>\n",
       "      <td>0</td>\n",
       "      <td>0</td>\n",
       "      <td>0</td>\n",
       "      <td>0</td>\n",
       "      <td>0</td>\n",
       "      <td>0</td>\n",
       "      <td>0</td>\n",
       "      <td>0</td>\n",
       "      <td>1</td>\n",
       "      <td>1</td>\n",
       "    </tr>\n",
       "    <tr>\n",
       "      <th>9</th>\n",
       "      <td>abandon</td>\n",
       "      <td>0</td>\n",
       "      <td>0</td>\n",
       "      <td>0</td>\n",
       "      <td>1</td>\n",
       "      <td>0</td>\n",
       "      <td>1</td>\n",
       "      <td>0</td>\n",
       "      <td>1</td>\n",
       "      <td>0</td>\n",
       "      <td>0</td>\n",
       "      <td>1</td>\n",
       "    </tr>\n",
       "  </tbody>\n",
       "</table>\n",
       "</div>"
      ],
      "text/plain": [
       "     Words  anger  anticipation  disgust  fear  joy  negative  positive  \\\n",
       "0    march      0             0        0     0    0         0         1   \n",
       "1   august      0             0        0     0    0         0         1   \n",
       "2      ago      0             0        0     0    0         0         0   \n",
       "3      mar      0             0        0     0    0         1         0   \n",
       "4      vie      0             0        0     0    0         0         0   \n",
       "5      sun      0             1        0     0    1         0         1   \n",
       "6      wed      0             0        0     0    0         0         0   \n",
       "7    aback      0             0        0     0    0         0         0   \n",
       "8   abacus      0             0        0     0    0         0         0   \n",
       "9  abandon      0             0        0     1    0         1         0   \n",
       "\n",
       "   sadness  surprise  trust  Charged  \n",
       "0        0         0      0        1  \n",
       "1        0         0      0        1  \n",
       "2        0         0      0        0  \n",
       "3        0         0      0        1  \n",
       "4        0         0      0        0  \n",
       "5        0         1      1        1  \n",
       "6        0         0      0        0  \n",
       "7        0         0      0        0  \n",
       "8        0         0      1        1  \n",
       "9        1         0      0        1  "
      ]
     },
     "execution_count": 1,
     "metadata": {},
     "output_type": "execute_result"
    }
   ],
   "source": [
    "import pandas as pd\n",
    "import nltk\n",
    "nltk.download('wordnet')\n",
    "\n",
    "from nltk.stem import PorterStemmer\n",
    "from nltk.stem import WordNetLemmatizer \n",
    "porter = PorterStemmer()\n",
    "\n",
    "# Init the Wordnet Lemmatizer\n",
    "lemmatizer = WordNetLemmatizer()\n",
    "\n",
    "File = pd.read_csv('Dataset/Emotion_Lexicon.csv', encoding='latin-1')\n",
    "File.head(10)"
   ]
  },
  {
   "cell_type": "code",
   "execution_count": 2,
   "metadata": {},
   "outputs": [],
   "source": [
    "    anger = []\n",
    "    anticipation=[]\n",
    "    disgust=[]\n",
    "    fear=[]\n",
    "    joy=[]\n",
    "    negative=[]\n",
    "    positive=[]\n",
    "    sadness=[]\n",
    "    surprise=[]\n",
    "    trust=[]\n",
    "    charged=[]"
   ]
  },
  {
   "cell_type": "code",
   "execution_count": 3,
   "metadata": {},
   "outputs": [],
   "source": [
    "import csv\n",
    "\n",
    "with open('Dataset/Emotion_Lexicon.csv') as csvfile:\n",
    "    readCSV = csv.reader(csvfile, delimiter=',')\n",
    "    Words=[]\n",
    "    Anger = []\n",
    "    Anticipation=[]\n",
    "    Disgust=[]\n",
    "    Fear=[]\n",
    "    Joy=[]\n",
    "    Negative=[]\n",
    "    Positive=[]\n",
    "    Sadness=[]\n",
    "    Surprise=[]\n",
    "    Trust=[]\n",
    "    Charged=[]\n",
    "    \n",
    "    for row in readCSV:\n",
    "        Wd = row[0]\n",
    "        An =row[1]\n",
    "        Ant=row[2]\n",
    "        Di=row[3]\n",
    "        Fe=row[4]\n",
    "        Jo=row[5]\n",
    "        Ne=row[6]\n",
    "        Po=row[7]\n",
    "        Sa=row[8]\n",
    "        Su=row[9]\n",
    "        tr=row[10]\n",
    "        Ch=row[11]\n",
    "        \n",
    "        \n",
    "        Words.append(Wd)\n",
    "        Anger.append(An)\n",
    "        Anticipation.append(Ant)\n",
    "        Disgust.append(Di)\n",
    "        Fear.append(Fe)\n",
    "        Joy.append(Jo)\n",
    "        Negative.append(Ne)\n",
    "        Positive.append(Po)\n",
    "        Sadness.append(Sa)\n",
    "        Surprise.append(Su)\n",
    "        Trust.append(tr)\n",
    "        Charged.append(Ch)\n",
    "        \n",
    "\n",
    "\n",
    "        \n",
    "    "
   ]
  },
  {
   "cell_type": "code",
   "execution_count": null,
   "metadata": {},
   "outputs": [],
   "source": []
  },
  {
   "cell_type": "code",
   "execution_count": 4,
   "metadata": {},
   "outputs": [],
   "source": [
    "i=0\n",
    "\n",
    "for item in Anger:\n",
    "    if item == '1':\n",
    "        anger.append(lemmatizer.lemmatize(porter.stem(Words[i]))) \n",
    "        \n",
    "    i=i+1\n",
    "    \n",
    "    \n",
    "    "
   ]
  },
  {
   "cell_type": "code",
   "execution_count": 5,
   "metadata": {},
   "outputs": [],
   "source": [
    "\n",
    "\n",
    "i=0\n",
    "\n",
    "for item in Anticipation:\n",
    "    if item == '1':\n",
    "        anticipation.append(lemmatizer.lemmatize(porter.stem(Words[i])))  \n",
    "    i=i+1\n",
    "    \n",
    "    \n",
    "    "
   ]
  },
  {
   "cell_type": "code",
   "execution_count": 6,
   "metadata": {},
   "outputs": [],
   "source": [
    "\n",
    "i=0\n",
    "\n",
    "for item in Disgust:\n",
    "    if item == '1':\n",
    "        disgust.append(lemmatizer.lemmatize(porter.stem(Words[i]))) \n",
    "    i=i+1"
   ]
  },
  {
   "cell_type": "code",
   "execution_count": 7,
   "metadata": {},
   "outputs": [],
   "source": [
    "i=0\n",
    "\n",
    "for item in Fear:\n",
    "    if item == '1':\n",
    "        fear.append(lemmatizer.lemmatize(porter.stem(Words[i]))) \n",
    "    i=i+1"
   ]
  },
  {
   "cell_type": "code",
   "execution_count": 8,
   "metadata": {},
   "outputs": [],
   "source": [
    "i=0\n",
    "\n",
    "for item in Joy:\n",
    "    if item == '1':\n",
    "        joy.append(lemmatizer.lemmatize(porter.stem(Words[i])))  \n",
    "    i=i+1"
   ]
  },
  {
   "cell_type": "code",
   "execution_count": 9,
   "metadata": {},
   "outputs": [],
   "source": [
    "i=0\n",
    "\n",
    "for item in Negative:\n",
    "    if item == '1':\n",
    "        negative.append(lemmatizer.lemmatize(porter.stem(Words[i]))) \n",
    "    i=i+1"
   ]
  },
  {
   "cell_type": "code",
   "execution_count": 10,
   "metadata": {},
   "outputs": [],
   "source": [
    "i=0\n",
    "\n",
    "for item in Positive:\n",
    "    if item == '1':\n",
    "        positive.append(lemmatizer.lemmatize(porter.stem(Words[i])))  \n",
    "    i=i+1"
   ]
  },
  {
   "cell_type": "code",
   "execution_count": 11,
   "metadata": {},
   "outputs": [],
   "source": [
    "i=0\n",
    "\n",
    "for item in Sadness:\n",
    "    if item == '1':\n",
    "        sadness.append(lemmatizer.lemmatize(porter.stem(Words[i])))  \n",
    "    i=i+1"
   ]
  },
  {
   "cell_type": "code",
   "execution_count": 12,
   "metadata": {},
   "outputs": [],
   "source": [
    "i=0\n",
    "\n",
    "for item in Surprise:\n",
    "    if item == '1':\n",
    "        surprise.append(lemmatizer.lemmatize(porter.stem(Words[i]))) \n",
    "    i=i+1"
   ]
  },
  {
   "cell_type": "code",
   "execution_count": 13,
   "metadata": {},
   "outputs": [],
   "source": [
    "i=0\n",
    "\n",
    "for item in Trust:\n",
    "    if item == '1':\n",
    "        trust.append(lemmatizer.lemmatize(porter.stem(Words[i]))) \n",
    "    i=i+1"
   ]
  },
  {
   "cell_type": "code",
   "execution_count": 14,
   "metadata": {},
   "outputs": [],
   "source": [
    "i=0\n",
    "\n",
    "for item in Charged:\n",
    "    if item == '1':\n",
    "        charged.append(lemmatizer.lemmatize(porter.stem(Words[i]))) \n",
    "    i=i+1"
   ]
  },
  {
   "cell_type": "code",
   "execution_count": 15,
   "metadata": {},
   "outputs": [
    {
     "name": "stdout",
     "output_type": "stream",
     "text": [
      "6468\n"
     ]
    }
   ],
   "source": [
    "print(len(charged))"
   ]
  },
  {
   "cell_type": "code",
   "execution_count": 16,
   "metadata": {},
   "outputs": [
    {
     "data": {
      "text/html": [
       "<div>\n",
       "<style scoped>\n",
       "    .dataframe tbody tr th:only-of-type {\n",
       "        vertical-align: middle;\n",
       "    }\n",
       "\n",
       "    .dataframe tbody tr th {\n",
       "        vertical-align: top;\n",
       "    }\n",
       "\n",
       "    .dataframe thead th {\n",
       "        text-align: right;\n",
       "    }\n",
       "</style>\n",
       "<table border=\"1\" class=\"dataframe\">\n",
       "  <thead>\n",
       "    <tr style=\"text-align: right;\">\n",
       "      <th></th>\n",
       "      <th>Unnamed: 0</th>\n",
       "      <th>Unnamed: 0.1</th>\n",
       "      <th>Tweets</th>\n",
       "      <th>Writer</th>\n",
       "    </tr>\n",
       "  </thead>\n",
       "  <tbody>\n",
       "    <tr>\n",
       "      <th>0</th>\n",
       "      <td>0</td>\n",
       "      <td>0</td>\n",
       "      <td>iÃ¢ÂÂm proud endors diver hope collect thoug...</td>\n",
       "      <td>BarackObama</td>\n",
       "    </tr>\n",
       "    <tr>\n",
       "      <th>1</th>\n",
       "      <td>1</td>\n",
       "      <td>1</td>\n",
       "      <td>welcom home astrobehnken astrodoug launch comm...</td>\n",
       "      <td>BarackObama</td>\n",
       "    </tr>\n",
       "    <tr>\n",
       "      <th>2</th>\n",
       "      <td>2</td>\n",
       "      <td>2</td>\n",
       "      <td>pandem far overÃ¢ÂÂÃ¢ÂÂand medic professio...</td>\n",
       "      <td>BarackObama</td>\n",
       "    </tr>\n",
       "    <tr>\n",
       "      <th>3</th>\n",
       "      <td>3</td>\n",
       "      <td>3</td>\n",
       "      <td>john believ exist capac great courag long what...</td>\n",
       "      <td>BarackObama</td>\n",
       "    </tr>\n",
       "    <tr>\n",
       "      <th>4</th>\n",
       "      <td>4</td>\n",
       "      <td>4</td>\n",
       "      <td>john spend entir life fight justic equalityÃ¢Â...</td>\n",
       "      <td>BarackObama</td>\n",
       "    </tr>\n",
       "    <tr>\n",
       "      <th>...</th>\n",
       "      <td>...</td>\n",
       "      <td>...</td>\n",
       "      <td>...</td>\n",
       "      <td>...</td>\n",
       "    </tr>\n",
       "    <tr>\n",
       "      <th>12104</th>\n",
       "      <td>12104</td>\n",
       "      <td>2015</td>\n",
       "      <td>minut happi think tuesday finish</td>\n",
       "      <td>Random</td>\n",
       "    </tr>\n",
       "    <tr>\n",
       "      <th>12105</th>\n",
       "      <td>12105</td>\n",
       "      <td>2016</td>\n",
       "      <td>first ever iphon crash itun time row also cras...</td>\n",
       "      <td>Random</td>\n",
       "    </tr>\n",
       "    <tr>\n",
       "      <th>12106</th>\n",
       "      <td>12106</td>\n",
       "      <td>2017</td>\n",
       "      <td>sa right side repli may star arrow click arrow...</td>\n",
       "      <td>Random</td>\n",
       "    </tr>\n",
       "    <tr>\n",
       "      <th>12107</th>\n",
       "      <td>12107</td>\n",
       "      <td>2018</td>\n",
       "      <td>forgot scienc exam n</td>\n",
       "      <td>Random</td>\n",
       "    </tr>\n",
       "    <tr>\n",
       "      <th>12108</th>\n",
       "      <td>12108</td>\n",
       "      <td>2019</td>\n",
       "      <td>found</td>\n",
       "      <td>Random</td>\n",
       "    </tr>\n",
       "  </tbody>\n",
       "</table>\n",
       "<p>12109 rows × 4 columns</p>\n",
       "</div>"
      ],
      "text/plain": [
       "       Unnamed: 0  Unnamed: 0.1  \\\n",
       "0               0             0   \n",
       "1               1             1   \n",
       "2               2             2   \n",
       "3               3             3   \n",
       "4               4             4   \n",
       "...           ...           ...   \n",
       "12104       12104          2015   \n",
       "12105       12105          2016   \n",
       "12106       12106          2017   \n",
       "12107       12107          2018   \n",
       "12108       12108          2019   \n",
       "\n",
       "                                                  Tweets       Writer  \n",
       "0      iÃ¢ÂÂm proud endors diver hope collect thoug...  BarackObama  \n",
       "1      welcom home astrobehnken astrodoug launch comm...  BarackObama  \n",
       "2      pandem far overÃ¢ÂÂÃ¢ÂÂand medic professio...  BarackObama  \n",
       "3      john believ exist capac great courag long what...  BarackObama  \n",
       "4      john spend entir life fight justic equalityÃ¢Â...  BarackObama  \n",
       "...                                                  ...          ...  \n",
       "12104                   minut happi think tuesday finish       Random  \n",
       "12105  first ever iphon crash itun time row also cras...       Random  \n",
       "12106  sa right side repli may star arrow click arrow...       Random  \n",
       "12107                               forgot scienc exam n       Random  \n",
       "12108                                              found       Random  \n",
       "\n",
       "[12109 rows x 4 columns]"
      ]
     },
     "execution_count": 16,
     "metadata": {},
     "output_type": "execute_result"
    }
   ],
   "source": [
    "datafr = pd.read_csv('Dataset/CleanedTweets.csv', encoding='latin-1')\n",
    "datafr"
   ]
  },
  {
   "cell_type": "code",
   "execution_count": 17,
   "metadata": {},
   "outputs": [],
   "source": [
    "def Modeling(name):\n",
    "    tweets=[]\n",
    "    writer=[]\n",
    "    Tweets=[]\n",
    "            \n",
    "    datafr = pd.read_csv('Dataset/CleanedTweets.csv', encoding='latin-1')\n",
    "    datafr = datafr.astype(str)\n",
    "    for i in datafr['Tweets']:\n",
    "        tweets.append(i)\n",
    "    for i in datafr['Writer']:\n",
    "        writer.append(i)\n",
    "    \n",
    "\n",
    "\n",
    "    i=0\n",
    "\n",
    "    for item in writer:\n",
    "        if item == name:\n",
    "            Tweets.append(lemmatizer.lemmatize(tweets[i]))\n",
    "        i=i+1\n",
    "\n",
    "\n",
    "    phrase=[]\n",
    "    from nltk.corpus import stopwords\n",
    "    nltk.download('stopwords')\n",
    "    from nltk.tokenize import word_tokenize\n",
    "\n",
    "    for text in Tweets:\n",
    "        text_tokens = word_tokenize(text)\n",
    "        tokens_without_sw = [word for word in text_tokens if not word in stopwords.words()]\n",
    "        for item in tokens_without_sw:\n",
    "            phrase.append(lemmatizer.lemmatize(porter.stem(item))) \n",
    "\n",
    "    return phrase"
   ]
  },
  {
   "cell_type": "code",
   "execution_count": 18,
   "metadata": {
    "scrolled": true
   },
   "outputs": [],
   "source": [
    "def DumpingModel(name,phrase):\n",
    "    angerCounter=0\n",
    "    anticipationCounter=0\n",
    "    disgustCounter=0\n",
    "    fearCounter=0\n",
    "    joyCounter=0\n",
    "    negativeCounter=0\n",
    "    positiveCounter=0\n",
    "    sadnessCounter=0\n",
    "    surpriseCounter=0\n",
    "    trustCounter=0\n",
    "    chargedCounter=0\n",
    "    arr=[]\n",
    "    for i in range(11):\n",
    "        if i==0: \n",
    "            arr=anger\n",
    "        elif i==1:\n",
    "            arr=anticipation\n",
    "        elif i==2:\n",
    "            \n",
    "            arr=disgust\n",
    "        elif i==3:\n",
    "            \n",
    "            arr=fear\n",
    "        elif i==4:\n",
    "            \n",
    "            arr=joy\n",
    "        elif i==5:\n",
    "            \n",
    "            arr=negative\n",
    "        elif i==6:\n",
    "            \n",
    "            arr=positive\n",
    "        elif i==7:\n",
    "            \n",
    "            arr=sadness\n",
    "        elif i==8:\n",
    "            \n",
    "            arr=surprise\n",
    "        elif i==9:\n",
    "            \n",
    "            arr=trust\n",
    "        elif i==10:\n",
    "            \n",
    "            arr=charged\n",
    "\n",
    "\n",
    "        for item in phrase:\n",
    "            for wd in arr:\n",
    "                if item==wd:\n",
    "                    if i==0:\n",
    "                        angerCounter+=1\n",
    "                    elif i==1:\n",
    "                        anticipationCounter+=1\n",
    "                    elif i==2:\n",
    "                        disgustCounter+=1\n",
    "                    elif i==3:\n",
    "                        fearCounter+=1\n",
    "                    elif i==4:\n",
    "                        joyCounter+=1\n",
    "                    elif i==5:\n",
    "                        negativeCounter+=1\n",
    "                    elif i==6:\n",
    "                        positiveCounter+=1\n",
    "                    elif i==7:\n",
    "                        sadnessCounter+=1\n",
    "                    elif i==8:\n",
    "                        surpriseCounter+=1\n",
    "                    elif i==9:\n",
    "                        trustCounter+=1\n",
    "                    elif i==10:\n",
    "                        chargedCounter+=1\n",
    "\n",
    "\n",
    "\n",
    "\n",
    "\n",
    "\n",
    "    dict={'angerCounter' :angerCounter,'anticipationCounter':anticipationCounter,'disgustCounter':disgustCounter,'fearCounter':fearCounter,'joyCounter':joyCounter, 'negativeCounter':negativeCounter,'positiveCounter':positiveCounter, 'sadnessCounter':sadnessCounter,'surpriseCounter':surpriseCounter,'trustCounter':trustCounter,'chargedCounter':chargedCounter}\n",
    "\n",
    "\n",
    "\n",
    "    import json\n",
    "    path='Dictionaries/'+name+'.json'\n",
    "    with open(path, 'w') as f:\n",
    "        json.dump(dict, f)\n",
    "\n",
    "\n",
    "\n",
    "\n",
    "    print(angerCounter)\n",
    "    print(anticipationCounter)\n",
    "    print(disgustCounter)\n",
    "    print(fearCounter)\n",
    "    print(joyCounter)\n",
    "    print(negativeCounter)\n",
    "    print(positiveCounter)\n",
    "    print(sadnessCounter)\n",
    "    print(surpriseCounter)\n",
    "    print(trustCounter)\n",
    "    print(chargedCounter)\n"
   ]
  },
  {
   "cell_type": "code",
   "execution_count": 19,
   "metadata": {},
   "outputs": [
    {
     "name": "stderr",
     "output_type": "stream",
     "text": [
      "[nltk_data] Downloading package stopwords to\n",
      "[nltk_data]     C:\\Users\\Alee\\AppData\\Roaming\\nltk_data...\n",
      "[nltk_data]   Package stopwords is already up-to-date!\n"
     ]
    },
    {
     "name": "stdout",
     "output_type": "stream",
     "text": [
      "1327\n",
      "2333\n",
      "599\n",
      "1580\n",
      "2297\n",
      "2088\n",
      "6887\n",
      "1077\n",
      "990\n",
      "4078\n",
      "10824\n"
     ]
    }
   ],
   "source": [
    "phrase=Modeling('BarackObama')\n",
    "DumpingModel('BarackObama',phrase)"
   ]
  },
  {
   "cell_type": "code",
   "execution_count": 20,
   "metadata": {},
   "outputs": [
    {
     "name": "stderr",
     "output_type": "stream",
     "text": [
      "[nltk_data] Downloading package stopwords to\n",
      "[nltk_data]     C:\\Users\\Alee\\AppData\\Roaming\\nltk_data...\n",
      "[nltk_data]   Package stopwords is already up-to-date!\n"
     ]
    },
    {
     "name": "stdout",
     "output_type": "stream",
     "text": [
      "896\n",
      "2287\n",
      "442\n",
      "1337\n",
      "1922\n",
      "1810\n",
      "5958\n",
      "919\n",
      "979\n",
      "3838\n",
      "9359\n"
     ]
    }
   ],
   "source": [
    "phrase=Modeling('BorisJohnson')\n",
    "DumpingModel('BorisJohnson',phrase)"
   ]
  },
  {
   "cell_type": "code",
   "execution_count": 21,
   "metadata": {},
   "outputs": [
    {
     "name": "stderr",
     "output_type": "stream",
     "text": [
      "[nltk_data] Downloading package stopwords to\n",
      "[nltk_data]     C:\\Users\\Alee\\AppData\\Roaming\\nltk_data...\n",
      "[nltk_data]   Package stopwords is already up-to-date!\n"
     ]
    },
    {
     "name": "stdout",
     "output_type": "stream",
     "text": [
      "1143\n",
      "2692\n",
      "631\n",
      "1425\n",
      "3179\n",
      "1971\n",
      "7389\n",
      "1036\n",
      "1519\n",
      "3625\n",
      "10552\n"
     ]
    }
   ],
   "source": [
    "phrase=Modeling('BillGates')\n",
    "DumpingModel('BillGates',phrase)"
   ]
  },
  {
   "cell_type": "code",
   "execution_count": 22,
   "metadata": {},
   "outputs": [
    {
     "name": "stderr",
     "output_type": "stream",
     "text": [
      "[nltk_data] Downloading package stopwords to\n",
      "[nltk_data]     C:\\Users\\Alee\\AppData\\Roaming\\nltk_data...\n",
      "[nltk_data]   Package stopwords is already up-to-date!\n"
     ]
    },
    {
     "name": "stdout",
     "output_type": "stream",
     "text": [
      "1587\n",
      "2577\n",
      "744\n",
      "1734\n",
      "2733\n",
      "2609\n",
      "7052\n",
      "1410\n",
      "1420\n",
      "4100\n",
      "11261\n"
     ]
    }
   ],
   "source": [
    "phrase=Modeling('HillaryClinton')\n",
    "DumpingModel('HillaryClinton',phrase)"
   ]
  },
  {
   "cell_type": "code",
   "execution_count": 23,
   "metadata": {},
   "outputs": [
    {
     "name": "stderr",
     "output_type": "stream",
     "text": [
      "[nltk_data] Downloading package stopwords to\n",
      "[nltk_data]     C:\\Users\\Alee\\AppData\\Roaming\\nltk_data...\n",
      "[nltk_data]   Package stopwords is already up-to-date!\n"
     ]
    },
    {
     "name": "stdout",
     "output_type": "stream",
     "text": [
      "1458\n",
      "2263\n",
      "752\n",
      "1683\n",
      "2254\n",
      "2544\n",
      "5526\n",
      "1418\n",
      "1202\n",
      "3752\n",
      "9452\n"
     ]
    }
   ],
   "source": [
    "phrase=Modeling('JeremyCorbyn')\n",
    "DumpingModel('JeremyCorbyn',phrase)"
   ]
  },
  {
   "cell_type": "code",
   "execution_count": null,
   "metadata": {},
   "outputs": [],
   "source": []
  },
  {
   "cell_type": "code",
   "execution_count": 24,
   "metadata": {},
   "outputs": [],
   "source": [
    "#Mapping"
   ]
  },
  {
   "cell_type": "code",
   "execution_count": 25,
   "metadata": {},
   "outputs": [],
   "source": [
    "def ExtractingDictionaries (name):\n",
    "\n",
    "    import json\n",
    "    path='Dictionaries/'+name+'.json'\n",
    "    with open(path) as f:\n",
    "        my_dict = json.load(f)\n",
    "    return my_dict"
   ]
  },
  {
   "cell_type": "code",
   "execution_count": 26,
   "metadata": {},
   "outputs": [],
   "source": [
    "BarackObama=ExtractingDictionaries ('BarackObama')\n",
    "\n",
    "BarackAnger=BarackObama['angerCounter']\n",
    "BarackAnticipation=BarackObama['anticipationCounter']\n",
    "BarackDisgust=BarackObama['disgustCounter']\n",
    "BarackFear=BarackObama['fearCounter']\n",
    "BarackJoy=BarackObama['joyCounter']\n",
    "BarackNegative=BarackObama['negativeCounter']\n",
    "BarackPositive=BarackObama['positiveCounter']\n",
    "BarackSadness=BarackObama['sadnessCounter']\n",
    "BarackSurprise=BarackObama['surpriseCounter']\n",
    "BarackTrust=BarackObama['trustCounter']\n",
    "BarackCharges=BarackObama['chargedCounter']\n"
   ]
  },
  {
   "cell_type": "code",
   "execution_count": 27,
   "metadata": {},
   "outputs": [
    {
     "data": {
      "image/png": "[encoded data removed]",
      "text/plain": [
       "<Figure size 640x480 with 1 Axes>"
      ]
     },
     "metadata": {},
     "output_type": "display_data"
    }
   ],
   "source": [
    "import matplotlib.pyplot as plt; plt.rcdefaults()\n",
    "import numpy as np\n",
    "import matplotlib.pyplot as plt\n",
    "\n",
    "plt.bar(10,BarackAnger,10, label=\"Anger\")\n",
    "plt.bar(30,BarackAnticipation,10, label=\"Anticipation\")\n",
    "plt.bar(50,BarackDisgust,10, label=\"Disgust\")\n",
    "plt.bar(70,BarackFear,10, label=\"Fear\")\n",
    "plt.bar(90,BarackJoy,10, label=\"joy\")\n",
    "plt.bar(110,BarackNegative,10, label=\"Negative\")\n",
    "plt.bar(130,BarackPositive,10, label=\"Positive\")\n",
    "plt.bar(150,BarackSadness,10, label=\"Sadness\")\n",
    "plt.bar(170,BarackSurprise,10, label=\"Surprise\")\n",
    "plt.bar(190,BarackTrust,10, label=\"Trust\")\n",
    "plt.bar(210,BarackCharges,10, label=\"Charged\")\n",
    "\n",
    "\n",
    "plt.legend()\n",
    "plt.ylabel('Frequency of Words')\n",
    "plt.title('BarackObama Personality Traits')\n",
    "plt.savefig('static/img/barackTraits.png')\n",
    "plt.show()\n",
    "\n",
    "\n",
    "\n",
    "\n",
    "\n",
    "\n",
    "\n",
    "\n"
   ]
  },
  {
   "cell_type": "code",
   "execution_count": null,
   "metadata": {},
   "outputs": [],
   "source": []
  },
  {
   "cell_type": "code",
   "execution_count": 28,
   "metadata": {},
   "outputs": [],
   "source": [
    "BillClinton=ExtractingDictionaries ('JeremyCorbyn')\n",
    "\n",
    "ClintonAnger=BillClinton['angerCounter']\n",
    "ClintonAnticipation=BillClinton['anticipationCounter']\n",
    "ClintonDisgust=BillClinton['disgustCounter']\n",
    "ClintonFear=BillClinton['fearCounter']\n",
    "ClintonJoy=BillClinton['joyCounter']\n",
    "ClintonNegative=BillClinton['negativeCounter']\n",
    "ClintonPositive=BillClinton['positiveCounter']\n",
    "ClintonSadness=BillClinton['sadnessCounter']\n",
    "ClintonSurprise=BillClinton['surpriseCounter']\n",
    "ClintonTrust=BillClinton['trustCounter']\n",
    "ClintonCharges=BillClinton['chargedCounter']\n"
   ]
  },
  {
   "cell_type": "code",
   "execution_count": 29,
   "metadata": {},
   "outputs": [
    {
     "data": {
      "image/png": "[encoded data removed]",
      "text/plain": [
       "<Figure size 640x480 with 1 Axes>"
      ]
     },
     "metadata": {},
     "output_type": "display_data"
    }
   ],
   "source": [
    "import matplotlib.pyplot as plt; plt.rcdefaults()\n",
    "import numpy as np\n",
    "import matplotlib.pyplot as plt\n",
    "\n",
    "plt.bar(10,ClintonAnger,10, label=\"Anger\")\n",
    "plt.bar(30,ClintonAnticipation,10, label=\"Anticipation\")\n",
    "plt.bar(50,ClintonDisgust,10, label=\"Disgust\")\n",
    "plt.bar(70,ClintonFear,10, label=\"Fear\")\n",
    "plt.bar(90,ClintonJoy,10, label=\"joy\")\n",
    "plt.bar(110,ClintonNegative,10, label=\"Negative\")\n",
    "plt.bar(130,ClintonPositive,10, label=\"Positive\")\n",
    "plt.bar(150,ClintonSadness,10, label=\"Sadness\")\n",
    "plt.bar(170,ClintonSurprise,10, label=\"Surprise\")\n",
    "plt.bar(190,ClintonTrust,10, label=\"Trust\")\n",
    "plt.bar(210,ClintonCharges,10, label=\"Charged\")\n",
    "\n",
    "\n",
    "plt.legend()\n",
    "plt.ylabel('Frequency of Words')\n",
    "plt.title('JeremyCorbyn Personality Traits')\n",
    "plt.savefig('static/img/CorbynTraits.png')\n",
    "\n",
    "plt.show()"
   ]
  },
  {
   "cell_type": "code",
   "execution_count": null,
   "metadata": {},
   "outputs": [],
   "source": []
  },
  {
   "cell_type": "code",
   "execution_count": 30,
   "metadata": {},
   "outputs": [],
   "source": [
    "BillGates=ExtractingDictionaries ('BillGates')\n",
    "\n",
    "BillGatesAnger=BillGates['angerCounter']\n",
    "BillGatesAnticipation=BillGates['anticipationCounter']\n",
    "BillGatesDisgust=BillGates['disgustCounter']\n",
    "BillGatesFear=BillGates['fearCounter']\n",
    "BillGatesJoy=BillGates['joyCounter']\n",
    "BillGatesNegative=BillGates['negativeCounter']\n",
    "BillGatesPositive=BillGates['positiveCounter']\n",
    "BillGatesSadness=BillGates['sadnessCounter']\n",
    "BillGatesSurprise=BillGates['surpriseCounter']\n",
    "BillGatesTrust=BillGates['trustCounter']\n",
    "BillGatesCharges=BillGates['chargedCounter']\n",
    "\n",
    "\n",
    "\n"
   ]
  },
  {
   "cell_type": "code",
   "execution_count": 31,
   "metadata": {},
   "outputs": [
    {
     "data": {
      "image/png": "[encoded data removed]",
      "text/plain": [
       "<Figure size 640x480 with 1 Axes>"
      ]
     },
     "metadata": {},
     "output_type": "display_data"
    }
   ],
   "source": [
    "import matplotlib.pyplot as plt; plt.rcdefaults()\n",
    "import numpy as np\n",
    "import matplotlib.pyplot as plt\n",
    "\n",
    "plt.bar(10,BillGatesAnger,10, label=\"Anger\")\n",
    "plt.bar(30,BillGatesAnticipation,10, label=\"Anticipation\")\n",
    "plt.bar(50,BillGatesDisgust,10, label=\"Disgust\")\n",
    "plt.bar(70,BillGatesFear,10, label=\"Fear\")\n",
    "plt.bar(90,BillGatesJoy,10, label=\"joy\")\n",
    "plt.bar(110,BillGatesNegative,10, label=\"Negative\")\n",
    "plt.bar(130,BillGatesPositive,10, label=\"Positive\")\n",
    "plt.bar(150,BillGatesSadness,10, label=\"Sadness\")\n",
    "plt.bar(170,BillGatesSurprise,10, label=\"Surprise\")\n",
    "plt.bar(190,BillGatesTrust,10, label=\"Trust\")\n",
    "plt.bar(210,BillGatesCharges,10, label=\"Charged\")\n",
    "\n",
    "\n",
    "plt.legend()\n",
    "plt.ylabel('Frequency of Words')\n",
    "plt.title('BillGates Personality Traits')\n",
    "plt.savefig('static/img/billTraits.png')\n",
    "plt.show()"
   ]
  },
  {
   "cell_type": "code",
   "execution_count": null,
   "metadata": {},
   "outputs": [],
   "source": []
  },
  {
   "cell_type": "code",
   "execution_count": 32,
   "metadata": {},
   "outputs": [],
   "source": [
    "BorisJohnson=ExtractingDictionaries ('BorisJohnson')\n",
    "\n",
    "\n",
    "BorisAnger=BorisJohnson['angerCounter']\n",
    "BorisAnticipation=BorisJohnson['anticipationCounter']\n",
    "BorisDisgust=BorisJohnson['disgustCounter']\n",
    "BorisFear=BorisJohnson['fearCounter']\n",
    "BorisJoy=BorisJohnson['joyCounter']\n",
    "BorisNegative=BorisJohnson['negativeCounter']\n",
    "BorisPositive=BorisJohnson['positiveCounter']\n",
    "BorisSadness=BorisJohnson['sadnessCounter']\n",
    "BorisSurprise=BorisJohnson['surpriseCounter']\n",
    "BorisTrust=BorisJohnson['trustCounter']\n",
    "BorisCharges=BorisJohnson['chargedCounter']\n",
    "\n"
   ]
  },
  {
   "cell_type": "code",
   "execution_count": 33,
   "metadata": {},
   "outputs": [
    {
     "data": {
      "image/png": "[encoded data removed]",
      "text/plain": [
       "<Figure size 640x480 with 1 Axes>"
      ]
     },
     "metadata": {},
     "output_type": "display_data"
    }
   ],
   "source": [
    "import matplotlib.pyplot as plt; plt.rcdefaults()\n",
    "import numpy as np\n",
    "import matplotlib.pyplot as plt\n",
    "\n",
    "plt.bar(10,BorisAnger,10, label=\"Anger\")\n",
    "plt.bar(30,BorisAnticipation,10, label=\"Anticipation\")\n",
    "plt.bar(50,BorisDisgust,10, label=\"Disgust\")\n",
    "plt.bar(70,BorisFear,10, label=\"Fear\")\n",
    "plt.bar(90,BorisJoy,10, label=\"joy\")\n",
    "plt.bar(110,BorisNegative,10, label=\"Negative\")\n",
    "plt.bar(130,BorisPositive,10, label=\"Positive\")\n",
    "plt.bar(150,BorisSadness,10, label=\"Sadness\")\n",
    "plt.bar(170,BorisSurprise,10, label=\"Surprise\")\n",
    "plt.bar(190,BorisTrust,10, label=\"Trust\")\n",
    "plt.bar(210,BorisCharges,10, label=\"Charged\")\n",
    "\n",
    "\n",
    "plt.legend()\n",
    "plt.ylabel('Frequency of Words')\n",
    "plt.title('BorisJohnson Personality Traits')\n",
    "plt.savefig('static/img/borisTraits.png')\n",
    "plt.show()"
   ]
  },
  {
   "cell_type": "code",
   "execution_count": null,
   "metadata": {},
   "outputs": [],
   "source": []
  },
  {
   "cell_type": "code",
   "execution_count": 34,
   "metadata": {},
   "outputs": [],
   "source": [
    "HillaryClinton=ExtractingDictionaries ('HillaryClinton')\n",
    "\n",
    "HillaryAnger=HillaryClinton['angerCounter']\n",
    "HillaryAnticipation=HillaryClinton['anticipationCounter']\n",
    "HillaryDisgust=HillaryClinton['disgustCounter']\n",
    "HillaryFear=HillaryClinton['fearCounter']\n",
    "HillaryJoy=HillaryClinton['joyCounter']\n",
    "HillaryNegative=HillaryClinton['negativeCounter']\n",
    "HillaryPositive=HillaryClinton['positiveCounter']\n",
    "HillarySadness=HillaryClinton['sadnessCounter']\n",
    "HillarySurprise=HillaryClinton['surpriseCounter']\n",
    "HillaryTrust=HillaryClinton['trustCounter']\n",
    "HillaryCharges=HillaryClinton['chargedCounter']\n"
   ]
  },
  {
   "cell_type": "code",
   "execution_count": 35,
   "metadata": {
    "scrolled": true
   },
   "outputs": [
    {
     "data": {
      "image/png": "[encoded data removed]",
      "text/plain": [
       "<Figure size 640x480 with 1 Axes>"
      ]
     },
     "metadata": {},
     "output_type": "display_data"
    }
   ],
   "source": [
    "import matplotlib.pyplot as plt; plt.rcdefaults()\n",
    "import numpy as np\n",
    "import matplotlib.pyplot as plt\n",
    "\n",
    "plt.bar(10,HillaryAnger,10, label=\"Anger\")\n",
    "plt.bar(30,HillaryAnticipation,10, label=\"Anticipation\")\n",
    "plt.bar(50,HillaryDisgust,10, label=\"Disgust\")\n",
    "plt.bar(70,HillaryFear,10, label=\"Fear\")\n",
    "plt.bar(90,HillaryJoy,10, label=\"joy\")\n",
    "plt.bar(110,HillaryNegative,10, label=\"Negative\")\n",
    "plt.bar(130,HillaryPositive,10, label=\"Positive\")\n",
    "plt.bar(150,HillarySadness,10, label=\"Sadness\")\n",
    "plt.bar(170,HillarySurprise,10, label=\"Surprise\")\n",
    "plt.bar(190,HillaryTrust,10, label=\"Trust\")\n",
    "plt.bar(210,HillaryCharges,10, label=\"Charged\")\n",
    "\n",
    "\n",
    "plt.legend()\n",
    "plt.ylabel('Frequency of Words')\n",
    "plt.title('HillaryClinton Personality Traits')\n",
    "plt.savefig('static/img/hillaryTraits.png')\n",
    "plt.show()"
   ]
  },
  {
   "cell_type": "code",
   "execution_count": null,
   "metadata": {},
   "outputs": [],
   "source": []
  },
  {
   "cell_type": "code",
   "execution_count": null,
   "metadata": {},
   "outputs": [],
   "source": []
  }
 ],
 "metadata": {
  "kernelspec": {
   "display_name": "Python 3",
   "language": "python",
   "name": "python3"
  },
  "language_info": {
   "codemirror_mode": {
    "name": "ipython",
    "version": 3
   },
   "file_extension": ".py",
   "mimetype": "text/x-python",
   "name": "python",
   "nbconvert_exporter": "python",
   "pygments_lexer": "ipython3",
   "version": "3.7.7"
  }
 },
 "nbformat": 4,
 "nbformat_minor": 2
}
