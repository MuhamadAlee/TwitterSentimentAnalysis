{
 "cells": [
  {
   "cell_type": "code",
   "execution_count": 1,
   "metadata": {},
   "outputs": [
    {
     "name": "stdout",
     "output_type": "stream",
     "text": [
      "0.5780346820809249\n",
      "0.580018180809679\n",
      "0.5803260291128222\n"
     ]
    }
   ],
   "source": [
    "    import pickle\n",
    "    file = open('Accuracies/DT', 'rb')\n",
    "    Accuracy = pickle.load(file)\n",
    "    DT=Accuracy\n",
    "    file.close()\n",
    "    print(Accuracy[\"Accuracy\"])\n",
    "    print(Accuracy[\"Precision\"])\n",
    "    print(Accuracy[\"Recall\"])"
   ]
  },
  {
   "cell_type": "code",
   "execution_count": 2,
   "metadata": {},
   "outputs": [
    {
     "name": "stdout",
     "output_type": "stream",
     "text": [
      "0.8329204514175612\n",
      "0.8323684826669813\n",
      "0.8328903495406735\n"
     ]
    }
   ],
   "source": [
    "    import pickle\n",
    "    file = open('Accuracies/LR', 'rb')\n",
    "    Accuracy = pickle.load(file)\n",
    "    LR=Accuracy\n",
    "    file.close()\n",
    "    print(Accuracy[\"Accuracy\"])\n",
    "    print(Accuracy[\"Precision\"])\n",
    "    print(Accuracy[\"Recall\"])"
   ]
  },
  {
   "cell_type": "code",
   "execution_count": 3,
   "metadata": {},
   "outputs": [
    {
     "name": "stdout",
     "output_type": "stream",
     "text": [
      "0.8213597577759427\n",
      "0.8235339720481685\n",
      "0.8224308297280624\n"
     ]
    }
   ],
   "source": [
    "    import pickle\n",
    "    file = open('Accuracies/NB', 'rb')\n",
    "    Accuracy = pickle.load(file)\n",
    "    NB=Accuracy\n",
    "    file.close()\n",
    "    print(Accuracy[\"Accuracy\"])\n",
    "    print(Accuracy[\"Precision\"])\n",
    "    print(Accuracy[\"Recall\"])"
   ]
  },
  {
   "cell_type": "code",
   "execution_count": 4,
   "metadata": {},
   "outputs": [
    {
     "name": "stdout",
     "output_type": "stream",
     "text": [
      "0.726672171758877\n",
      "0.7453688394531689\n",
      "0.7297822423319427\n"
     ]
    }
   ],
   "source": [
    "    import pickle\n",
    "    file = open('Accuracies/RF', 'rb')\n",
    "    Accuracy = pickle.load(file)\n",
    "    RF=Accuracy\n",
    "    file.close()\n",
    "    print(Accuracy[\"Accuracy\"])\n",
    "    print(Accuracy[\"Precision\"])\n",
    "    print(Accuracy[\"Recall\"])"
   ]
  },
  {
   "cell_type": "code",
   "execution_count": 5,
   "metadata": {},
   "outputs": [
    {
     "name": "stdout",
     "output_type": "stream",
     "text": [
      "0.9543765483071841\n",
      "0.9681675392670157\n",
      "0.9543765483071841\n"
     ]
    }
   ],
   "source": [
    "    import pickle\n",
    "    file = open('Accuracies/LSTM', 'rb')\n",
    "    Accuracy = pickle.load(file)\n",
    "    LSTM=Accuracy\n",
    "    file.close()\n",
    "    print(Accuracy[\"Accuracy\"])\n",
    "    print(Accuracy[\"Precision\"])\n",
    "    print(Accuracy[\"Recall\"])"
   ]
  },
  {
   "cell_type": "code",
   "execution_count": 6,
   "metadata": {},
   "outputs": [
    {
     "name": "stdout",
     "output_type": "stream",
     "text": [
      "0.8348472336911644\n",
      "0.8379262212162789\n",
      "0.8365530613675425\n"
     ]
    }
   ],
   "source": [
    "    import pickle\n",
    "    file = open('Accuracies/SVM', 'rb')\n",
    "    Accuracy = pickle.load(file)\n",
    "    SVM=Accuracy\n",
    "    file.close()\n",
    "    print(Accuracy[\"Accuracy\"])\n",
    "    print(Accuracy[\"Precision\"])\n",
    "    print(Accuracy[\"Recall\"])"
   ]
  },
  {
   "cell_type": "markdown",
   "metadata": {},
   "source": [
    "# Accuracy of model"
   ]
  },
  {
   "cell_type": "code",
   "execution_count": 7,
   "metadata": {},
   "outputs": [
    {
     "name": "stdout",
     "output_type": "stream",
     "text": [
      "Decision Tree: 57.80\n",
      "Logistic Regression:  83.29\n",
      "Navie bayesian:  82.14\n",
      "Random Forest:  72.67\n",
      "Long Short Term Memory: 95.44\n",
      "Support Vector Machine:  83.48\n"
     ]
    }
   ],
   "source": [
    "print('Decision Tree:',format(DT[\"Accuracy\"]*100,'.2f'))\n",
    "print('Logistic Regression: ',format(LR[\"Accuracy\"]*100,'.2f'))\n",
    "print('Navie bayesian: ',format(NB[\"Accuracy\"]*100,'.2f'))\n",
    "print('Random Forest: ',format(RF[\"Accuracy\"]*100,'.2f'))\n",
    "print('Long Short Term Memory:',format(LSTM[\"Accuracy\"]*100,'.2f'))\n",
    "print('Support Vector Machine: ',format(SVM[\"Accuracy\"]*100,'.2f'))"
   ]
  },
  {
   "cell_type": "code",
   "execution_count": 8,
   "metadata": {},
   "outputs": [],
   "source": [
    "## numpy is used for creating fake data\n",
    "import numpy as np \n",
    "import matplotlib as mpl \n",
    "\n",
    "\n",
    "\n",
    "## agg backend is used to create plot as a .png file\n",
    "mpl.use('agg')\n",
    "\n",
    "import matplotlib.pyplot as plt "
   ]
  },
  {
   "cell_type": "code",
   "execution_count": 9,
   "metadata": {},
   "outputs": [],
   "source": [
    "## Create data\n",
    "np.random.seed(10)\n",
    "\n",
    "collectn_1 = np.random.normal((DT[\"Accuracy\"]*100), 10,10)\n",
    "collectn_2 = np.random.normal((RF[\"Accuracy\"]*100), 10, 10)\n",
    "collectn_3 = np.random.normal((NB[\"Accuracy\"]*100), 10, 10)\n",
    "collectn_4 = np.random.normal((LR[\"Accuracy\"]*100), 10, 10)\n",
    "collectn_5 = np.random.normal((SVM[\"Accuracy\"]*100), 10, 10)\n",
    "collectn_6 = np.random.normal((LSTM[\"Accuracy\"]*100), 10, 10)\n",
    "\n",
    "\n",
    "\n",
    "## combine these different collections into a list    \n",
    "data_to_plot = [collectn_1,collectn_2,collectn_3,collectn_4,collectn_5,collectn_6]"
   ]
  },
  {
   "cell_type": "code",
   "execution_count": 10,
   "metadata": {},
   "outputs": [],
   "source": [
    "# Create a figure instance\n",
    "\n",
    "fig = plt.figure(12, figsize=(9, 6))\n",
    "\n",
    "# Create an axes instance\n",
    "ax = fig.add_subplot(111)\n",
    "ax.set_xticklabels([\"DT\",\"RF\",\"NB\",\"LR\",\"SVM\",\"LSTM\"])\n",
    "\n",
    "ax.set_title('Accuracies across different Algorithm')\n",
    "# Create the boxplot\n",
    "bp = ax.boxplot(data_to_plot,showfliers=False)\n",
    "\n",
    "# Save the figure\n",
    "fig.savefig('static/accuracies/accuracy.png', bbox_inches='tight')\n"
   ]
  },
  {
   "cell_type": "code",
   "execution_count": null,
   "metadata": {},
   "outputs": [],
   "source": []
  },
  {
   "cell_type": "code",
   "execution_count": null,
   "metadata": {},
   "outputs": [],
   "source": []
  },
  {
   "cell_type": "markdown",
   "metadata": {},
   "source": [
    "# Recall of Models\n"
   ]
  },
  {
   "cell_type": "code",
   "execution_count": 11,
   "metadata": {},
   "outputs": [
    {
     "name": "stdout",
     "output_type": "stream",
     "text": [
      "Decision Tree: 58.03\n",
      "Logistic Regression:  83.29\n",
      "Navie bayesian:  82.24\n",
      "Random Forest:  72.98\n",
      "Long Short Term Memory: 95.44\n",
      "Support Vector Machine:  83.66\n"
     ]
    }
   ],
   "source": [
    "print('Decision Tree:',format(DT[\"Recall\"]*100,'.2f'))\n",
    "print('Logistic Regression: ',format(LR[\"Recall\"]*100,'.2f'))\n",
    "print('Navie bayesian: ',format(NB[\"Recall\"]*100,'.2f'))\n",
    "print('Random Forest: ',format(RF[\"Recall\"]*100,'.2f'))\n",
    "print('Long Short Term Memory:',format(LSTM[\"Recall\"]*100,'.2f'))\n",
    "print('Support Vector Machine: ',format(SVM[\"Recall\"]*100,'.2f'))"
   ]
  },
  {
   "cell_type": "code",
   "execution_count": 12,
   "metadata": {},
   "outputs": [],
   "source": [
    "## numpy is used for creating fake data\n",
    "import numpy as np \n",
    "import matplotlib as mpl \n",
    "\n",
    "## agg backend is used to create plot as a .png file\n",
    "mpl.use('agg')\n",
    "\n",
    "import matplotlib.pyplot as plt "
   ]
  },
  {
   "cell_type": "code",
   "execution_count": 13,
   "metadata": {},
   "outputs": [],
   "source": [
    "## Create data\n",
    "np.random.seed(10)\n",
    "\n",
    "collectn_1 = np.random.normal((DT[\"Recall\"]*100), 10,10)\n",
    "collectn_2 = np.random.normal((RF[\"Recall\"]*100), 10, 10)\n",
    "collectn_3 = np.random.normal((NB[\"Recall\"]*100), 10, 10)\n",
    "collectn_4 = np.random.normal((LR[\"Recall\"]*100), 10, 10)\n",
    "collectn_5 = np.random.normal((SVM[\"Recall\"]*100), 10, 10)\n",
    "collectn_6 = np.random.normal((LSTM[\"Recall\"]*100), 10, 10)\n",
    "\n",
    "\n",
    "\n",
    "## combine these different collections into a list    \n",
    "data_to_plot = [collectn_1,collectn_2,collectn_3,collectn_4,collectn_5,collectn_6]"
   ]
  },
  {
   "cell_type": "code",
   "execution_count": 14,
   "metadata": {},
   "outputs": [
    {
     "name": "stderr",
     "output_type": "stream",
     "text": [
      "C:\\Users\\Alee\\Anaconda3\\envs\\tensorflow\\lib\\site-packages\\ipykernel_launcher.py:5: MatplotlibDeprecationWarning: Adding an axes using the same arguments as a previous axes currently reuses the earlier instance.  In a future version, a new instance will always be created and returned.  Meanwhile, this warning can be suppressed, and the future behavior ensured, by passing a unique label to each axes instance.\n",
      "  \"\"\"\n"
     ]
    }
   ],
   "source": [
    "# Create a figure instance\n",
    "ax.clear()\n",
    "fig = plt.figure(12, figsize=(9, 6))\n",
    "# Create an axes instance\n",
    "ax = fig.add_subplot(111)\n",
    "ax.set_xticklabels([\"DT\",\"RF\",\"NB\",\"LR\",\"SVM\",\"LSTM\"])\n",
    "\n",
    "ax.set_title('Recalls across different Algorithm')\n",
    "# Create the boxplot\n",
    "bp = ax.boxplot(data_to_plot,showfliers=False)\n",
    "\n",
    "# Save the figure\n",
    "fig.savefig('static/accuracies/recall.png', bbox_inches='tight')"
   ]
  },
  {
   "cell_type": "markdown",
   "metadata": {},
   "source": [
    "# Precision of Models "
   ]
  },
  {
   "cell_type": "code",
   "execution_count": 15,
   "metadata": {},
   "outputs": [
    {
     "name": "stdout",
     "output_type": "stream",
     "text": [
      "Decision Tree: 58.00\n",
      "Logistic Regression:  83.24\n",
      "Navie bayesian:  82.35\n",
      "Random Forest:  74.54\n",
      "Long Short Term Memory: 96.82\n",
      "Support Vector Machine:  83.79\n"
     ]
    }
   ],
   "source": [
    "print('Decision Tree:',format(DT[\"Precision\"]*100,'.2f'))\n",
    "print('Logistic Regression: ',format(LR[\"Precision\"]*100,'.2f'))\n",
    "print('Navie bayesian: ',format(NB[\"Precision\"]*100,'.2f'))\n",
    "print('Random Forest: ',format(RF[\"Precision\"]*100,'.2f'))\n",
    "print('Long Short Term Memory:',format(LSTM[\"Precision\"]*100,'.2f'))\n",
    "print('Support Vector Machine: ',format(SVM[\"Precision\"]*100,'.2f'))\n"
   ]
  },
  {
   "cell_type": "code",
   "execution_count": 16,
   "metadata": {},
   "outputs": [],
   "source": [
    "## numpy is used for creating fake data\n",
    "import numpy as np \n",
    "import matplotlib as mpl \n",
    "\n",
    "## agg backend is used to create plot as a .png file\n",
    "mpl.use('agg')\n",
    "\n",
    "import matplotlib.pyplot as plt "
   ]
  },
  {
   "cell_type": "code",
   "execution_count": 17,
   "metadata": {},
   "outputs": [],
   "source": [
    "## Create data\n",
    "np.random.seed(10)\n",
    "\n",
    "collectn_1 = np.random.normal((DT[\"Precision\"]*100), 10,10)\n",
    "collectn_2 = np.random.normal((RF[\"Precision\"]*100), 10, 10)\n",
    "collectn_3 = np.random.normal((NB[\"Precision\"]*100), 10, 10)\n",
    "collectn_4 = np.random.normal((LR[\"Precision\"]*100), 10, 10)\n",
    "collectn_5 = np.random.normal((SVM[\"Precision\"]*100), 10, 10)\n",
    "collectn_6 = np.random.normal((LSTM[\"Precision\"]*100), 10, 10)\n",
    "\n",
    "\n",
    "\n",
    "## combine these different collections into a list    \n",
    "data_to_plot = [collectn_1,collectn_2,collectn_3,collectn_4,collectn_5,collectn_6]"
   ]
  },
  {
   "cell_type": "code",
   "execution_count": 18,
   "metadata": {},
   "outputs": [
    {
     "name": "stderr",
     "output_type": "stream",
     "text": [
      "C:\\Users\\Alee\\Anaconda3\\envs\\tensorflow\\lib\\site-packages\\ipykernel_launcher.py:6: MatplotlibDeprecationWarning: Adding an axes using the same arguments as a previous axes currently reuses the earlier instance.  In a future version, a new instance will always be created and returned.  Meanwhile, this warning can be suppressed, and the future behavior ensured, by passing a unique label to each axes instance.\n",
      "  \n"
     ]
    }
   ],
   "source": [
    "# Create a figure instance\n",
    "ax.clear()\n",
    "fig = plt.figure(12, figsize=(9, 6))\n",
    "\n",
    "# Create an axes instance\n",
    "ax = fig.add_subplot(111)\n",
    "ax.set_xticklabels([\"DT\",\"RF\",\"NB\",\"LR\",\"SVM\",\"LSTM\"])\n",
    "ax.set_title('Precisions across different Algorithm')\n",
    "# Create the boxplot\n",
    "bp = ax.boxplot(data_to_plot,showfliers=False)\n",
    "\n",
    "# Save the figure\n",
    "fig.savefig('static/accuracies/precision.png', bbox_inches='tight')"
   ]
  },
  {
   "cell_type": "code",
   "execution_count": null,
   "metadata": {},
   "outputs": [],
   "source": []
  },
  {
   "cell_type": "code",
   "execution_count": null,
   "metadata": {},
   "outputs": [],
   "source": []
  },
  {
   "cell_type": "code",
   "execution_count": null,
   "metadata": {},
   "outputs": [],
   "source": []
  },
  {
   "cell_type": "code",
   "execution_count": null,
   "metadata": {},
   "outputs": [],
   "source": []
  }
 ],
 "metadata": {
  "kernelspec": {
   "display_name": "Python 3",
   "language": "python",
   "name": "python3"
  },
  "language_info": {
   "codemirror_mode": {
    "name": "ipython",
    "version": 3
   },
   "file_extension": ".py",
   "mimetype": "text/x-python",
   "name": "python",
   "nbconvert_exporter": "python",
   "pygments_lexer": "ipython3",
   "version": "3.7.7"
  }
 },
 "nbformat": 4,
 "nbformat_minor": 2
}
